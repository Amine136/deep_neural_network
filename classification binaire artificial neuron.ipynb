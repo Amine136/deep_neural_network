{
 "cells": [
  {
   "cell_type": "code",
   "execution_count": 1,
   "id": "10bf7373",
   "metadata": {},
   "outputs": [],
   "source": [
    "from deep_neural_network import *\n",
    "import matplotlib.pyplot as plt\n",
    "import numpy as np\n",
    "from utilities import*"
   ]
  },
  {
   "cell_type": "code",
   "execution_count": 2,
   "id": "149a31e0",
   "metadata": {},
   "outputs": [],
   "source": [
    "X_train, y_train, X_test, y_test =load_data()\n",
    "\n",
    "X_train_reshape = X_train.reshape(X_train.shape[0], -1) / X_train.max()\n",
    "X=X_train_reshape.T\n",
    "\n",
    "\n",
    "y=y_train.T"
   ]
  },
  {
   "cell_type": "code",
   "execution_count": null,
   "id": "9c288c08",
   "metadata": {},
   "outputs": [
    {
     "name": "stderr",
     "output_type": "stream",
     "text": [
      "Loading:  86%|█████████████████████████████████████████▌      | 17299/20000 [04:17<00:43, 61.94it/s]"
     ]
    }
   ],
   "source": [
    "Experience = deep_neural_network(X, y, (8,20,40,40,20,2),  learning_rate = 0.05, n_iter=20000, test = True)"
   ]
  },
  {
   "cell_type": "code",
   "execution_count": null,
   "id": "71b45104",
   "metadata": {},
   "outputs": [],
   "source": [
    "from sklearn.metrics import accuracy_score"
   ]
  },
  {
   "cell_type": "code",
   "execution_count": null,
   "id": "a75daebe",
   "metadata": {},
   "outputs": [],
   "source": [
    "X_test_reshape = X_test.reshape(X_test.shape[0], -1) / X_test.max()\n",
    "x_test=X_test_reshape.T\n",
    "\n",
    "y_test=y_test.T"
   ]
  },
  {
   "cell_type": "code",
   "execution_count": null,
   "id": "ca51abd0",
   "metadata": {},
   "outputs": [],
   "source": [
    "parametres = Experience [\"parametres\"]\n",
    "y_pred = predict(x_test, parametres)\n",
    "#print('train_loss', Experience['train_loss'][-1])\n",
    "print('accuracy score train', Experience['train_acc'][-1])\n",
    "print('accuracy score test: ' ,accuracy_score(y_test.flatten(),y_pred.flatten()))"
   ]
  },
  {
   "cell_type": "code",
   "execution_count": null,
   "id": "d92a35d0",
   "metadata": {},
   "outputs": [],
   "source": []
  },
  {
   "cell_type": "code",
   "execution_count": null,
   "id": "1f6293f2",
   "metadata": {},
   "outputs": [],
   "source": []
  },
  {
   "cell_type": "code",
   "execution_count": null,
   "id": "9b3b6d4c",
   "metadata": {},
   "outputs": [],
   "source": []
  }
 ],
 "metadata": {
  "kernelspec": {
   "display_name": "Python 3 (ipykernel)",
   "language": "python",
   "name": "python3"
  },
  "language_info": {
   "codemirror_mode": {
    "name": "ipython",
    "version": 3
   },
   "file_extension": ".py",
   "mimetype": "text/x-python",
   "name": "python",
   "nbconvert_exporter": "python",
   "pygments_lexer": "ipython3",
   "version": "3.9.13"
  }
 },
 "nbformat": 4,
 "nbformat_minor": 5
}
